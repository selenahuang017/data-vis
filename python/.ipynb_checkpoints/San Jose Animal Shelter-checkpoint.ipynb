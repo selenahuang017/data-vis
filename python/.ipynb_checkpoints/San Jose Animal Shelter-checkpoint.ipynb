{
 "cells": [
  {
   "cell_type": "code",
   "execution_count": 1,
   "id": "3c3a11e3",
   "metadata": {},
   "outputs": [
    {
     "name": "stdout",
     "output_type": "stream",
     "text": [
      "Analysing San Jose Animal Shelter Data\n"
     ]
    }
   ],
   "source": [
    "print(\"Analysing San Jose Animal Shelter Data\")"
   ]
  },
  {
   "cell_type": "code",
   "execution_count": 5,
   "id": "431ee234",
   "metadata": {},
   "outputs": [
    {
     "name": "stdout",
     "output_type": "stream",
     "text": [
      "<class 'pandas.core.frame.DataFrame'>\n",
      "RangeIndex: 19239 entries, 0 to 19238\n",
      "Data columns (total 22 columns):\n",
      " #   Column            Non-Null Count  Dtype \n",
      "---  ------            --------------  ----- \n",
      " 0   _id               19239 non-null  int64 \n",
      " 1   AnimalID          19239 non-null  object\n",
      " 2   AnimalName        10263 non-null  object\n",
      " 3   AnimalType        19239 non-null  object\n",
      " 4   PrimaryColor      19239 non-null  object\n",
      " 5   SecondaryColor    7377 non-null   object\n",
      " 6   PrimaryBreed      19239 non-null  object\n",
      " 7   Sex               19239 non-null  object\n",
      " 8   DOB               12025 non-null  object\n",
      " 9   Age               19239 non-null  object\n",
      " 10  IntakeDate        19239 non-null  object\n",
      " 11  IntakeCondition   19239 non-null  object\n",
      " 12  IntakeType        19239 non-null  object\n",
      " 13  IntakeSubtype     15500 non-null  object\n",
      " 14  IntakeReason      549 non-null    object\n",
      " 15  OutcomeDate       18229 non-null  object\n",
      " 16  OutcomeType       18232 non-null  object\n",
      " 17  OutcomeSubtype    8197 non-null   object\n",
      " 18  OutcomeCondition  17091 non-null  object\n",
      " 19  Crossing          14459 non-null  object\n",
      " 20  Jurisdiction      18625 non-null  object\n",
      " 21  LastUpdate        19239 non-null  object\n",
      "dtypes: int64(1), object(21)\n",
      "memory usage: 3.2+ MB\n"
     ]
    }
   ],
   "source": [
    "import pandas as pd\n",
    "\n",
    "df = pd.read_csv(\"../data/San_Jose_Animal_Shelter_FY23-24.csv\")\n",
    "\n",
    "# df.columns = prints names\n",
    "\n",
    "# more verbose column info\n",
    "df.info(verbose=True)"
   ]
  },
  {
   "cell_type": "code",
   "execution_count": 6,
   "id": "e71da131",
   "metadata": {},
   "outputs": [
    {
     "data": {
      "text/plain": [
       "array(['MED R', 'DEAD', 'MED M', 'HEALTHY', 'MED SEV', 'MED EMERG',\n",
       "       'BEH U', 'AGGRESSIVE', 'FERAL', 'BEH M', 'BEH R', 'PREGNANT',\n",
       "       'NURSING'], dtype=object)"
      ]
     },
     "execution_count": 6,
     "metadata": {},
     "output_type": "execute_result"
    }
   ],
   "source": [
    "df.IntakeCondition.unique()"
   ]
  },
  {
   "cell_type": "code",
   "execution_count": 7,
   "id": "632cafcb",
   "metadata": {},
   "outputs": [
    {
     "data": {
      "text/plain": [
       "array([nan, 'DISPOSAL', 'RESCUE', 'FOSTER', 'RTO', 'EUTH', 'ADOPTION',\n",
       "       'TRANSFER', 'RTF', 'REQ EUTH', 'DIED', 'LOST EXP', 'FOUND ANIM',\n",
       "       'FOUND EXP', 'SPAY', 'MISSING'], dtype=object)"
      ]
     },
     "execution_count": 7,
     "metadata": {},
     "output_type": "execute_result"
    }
   ],
   "source": [
    "df.OutcomeType.unique()\n",
    "# RTO means return to owner\n",
    "# RTF means return to field\n",
    "# EUTH = euthanasia\n",
    "# BEH R/M/U ? "
   ]
  },
  {
   "cell_type": "code",
   "execution_count": 8,
   "id": "f5922d4f",
   "metadata": {},
   "outputs": [
    {
     "data": {
      "text/plain": [
       "array(['DEAD', 'MED R', 'HEALTHY', 'MED SEV', nan, 'MED M', 'MED EMERG',\n",
       "       'BEH U', 'FERAL', 'AGGRESSIVE', 'BEH R', 'BEH M', 'NURSING',\n",
       "       'PREGNANT'], dtype=object)"
      ]
     },
     "execution_count": 8,
     "metadata": {},
     "output_type": "execute_result"
    }
   ],
   "source": [
    "df.OutcomeCondition.unique()"
   ]
  },
  {
   "cell_type": "code",
   "execution_count": null,
   "id": "5fe6de36",
   "metadata": {},
   "outputs": [],
   "source": []
  }
 ],
 "metadata": {
  "kernelspec": {
   "display_name": "Python 3 (ipykernel)",
   "language": "python",
   "name": "python3"
  },
  "language_info": {
   "codemirror_mode": {
    "name": "ipython",
    "version": 3
   },
   "file_extension": ".py",
   "mimetype": "text/x-python",
   "name": "python",
   "nbconvert_exporter": "python",
   "pygments_lexer": "ipython3",
   "version": "3.7.5"
  }
 },
 "nbformat": 4,
 "nbformat_minor": 5
}
